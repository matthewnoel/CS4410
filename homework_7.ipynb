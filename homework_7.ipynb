{
  "nbformat": 4,
  "nbformat_minor": 0,
  "metadata": {
    "colab": {
      "name": "Homework 7.ipynb",
      "provenance": []
    },
    "kernelspec": {
      "name": "python3",
      "display_name": "Python 3"
    },
    "language_info": {
      "name": "python"
    }
  },
  "cells": [
    {
      "cell_type": "code",
      "metadata": {
        "id": "TywgFYgn2mRq"
      },
      "source": [
        "from tensorflow.keras.datasets import mnist"
      ],
      "execution_count": null,
      "outputs": []
    },
    {
      "cell_type": "code",
      "metadata": {
        "colab": {
          "base_uri": "https://localhost:8080/"
        },
        "id": "RqxeV2d93pzb",
        "outputId": "6c6e302f-889f-4d65-ee44-32676215b421"
      },
      "source": [
        "(X_train, y_train), (X_test, y_test) = mnist.load_data()"
      ],
      "execution_count": null,
      "outputs": [
        {
          "output_type": "stream",
          "name": "stdout",
          "text": [
            "Downloading data from https://storage.googleapis.com/tensorflow/tf-keras-datasets/mnist.npz\n",
            "11493376/11490434 [==============================] - 0s 0us/step\n",
            "11501568/11490434 [==============================] - 0s 0us/step\n"
          ]
        }
      ]
    },
    {
      "cell_type": "code",
      "metadata": {
        "id": "mabZlIwD4DMO"
      },
      "source": [
        "X_train = X_train.reshape((60000, 28, 28, 1))\n",
        "X_test = X_test.reshape((10000, 28, 28, 1))"
      ],
      "execution_count": null,
      "outputs": []
    },
    {
      "cell_type": "code",
      "metadata": {
        "id": "9kyQ9sIj4VtK"
      },
      "source": [
        "X_train = X_train.astype('float32') / 255\n",
        "X_test = X_test.astype('float32') / 255"
      ],
      "execution_count": null,
      "outputs": []
    },
    {
      "cell_type": "code",
      "metadata": {
        "id": "0ercbfsZ4sPR"
      },
      "source": [
        "from tensorflow.keras.utils import to_categorical\n",
        "y_train = to_categorical(y_train)\n",
        "y_test = to_categorical(y_test)"
      ],
      "execution_count": null,
      "outputs": []
    },
    {
      "cell_type": "code",
      "metadata": {
        "id": "F10GaaaR5GQt"
      },
      "source": [
        "from tensorflow.keras.models import Sequential\n",
        "cnn = Sequential()"
      ],
      "execution_count": null,
      "outputs": []
    },
    {
      "cell_type": "code",
      "metadata": {
        "id": "aFam_sCk5M_L"
      },
      "source": [
        "from tensorflow.keras.layers import Conv2D, Dense, Flatten, MaxPooling2D"
      ],
      "execution_count": null,
      "outputs": []
    },
    {
      "cell_type": "code",
      "metadata": {
        "id": "LxiAsrW8PZiy"
      },
      "source": [
        "cnn.add(Conv2D(filters=64, kernel_size=(3, 3), activation='relu', input_shape=(28, 28, 1)))"
      ],
      "execution_count": null,
      "outputs": []
    },
    {
      "cell_type": "code",
      "metadata": {
        "id": "TV7oAZJLPx7e"
      },
      "source": [
        "cnn.add(MaxPooling2D(pool_size=(2, 2)))\n",
        "cnn.add(Conv2D(filters=128, kernel_size=(3, 3), activation='relu'))\n",
        "cnn.add(MaxPooling2D(pool_size=(2, 2)))"
      ],
      "execution_count": null,
      "outputs": []
    },
    {
      "cell_type": "code",
      "metadata": {
        "id": "RiTdv0FlQQFH"
      },
      "source": [
        "cnn.add(Flatten())\n",
        "cnn.add(Dense(units=128, activation='relu'))\n",
        "cnn.add(Dense(units=10, activation='softmax'))"
      ],
      "execution_count": null,
      "outputs": []
    },
    {
      "cell_type": "code",
      "metadata": {
        "id": "I_U8Eq7GQjO6"
      },
      "source": [
        "cnn.compile(optimizer='adam', loss='categorical_crossentropy', metrics=['accuracy'])"
      ],
      "execution_count": null,
      "outputs": []
    },
    {
      "cell_type": "code",
      "metadata": {
        "colab": {
          "base_uri": "https://localhost:8080/"
        },
        "id": "r6p5_dzFQ20t",
        "outputId": "50a6ecfd-36ac-4c57-9312-f5eaa0aa8578"
      },
      "source": [
        "cnn.fit(X_train, y_train, epochs=5, batch_size=64, validation_split=0.1)"
      ],
      "execution_count": null,
      "outputs": [
        {
          "output_type": "stream",
          "name": "stdout",
          "text": [
            "Epoch 1/5\n",
            "844/844 [==============================] - 114s 134ms/step - loss: 0.1382 - accuracy: 0.9577 - val_loss: 0.0411 - val_accuracy: 0.9872\n",
            "Epoch 2/5\n",
            "844/844 [==============================] - 115s 136ms/step - loss: 0.0419 - accuracy: 0.9870 - val_loss: 0.0304 - val_accuracy: 0.9910\n",
            "Epoch 3/5\n",
            "844/844 [==============================] - 112s 133ms/step - loss: 0.0273 - accuracy: 0.9916 - val_loss: 0.0383 - val_accuracy: 0.9895\n",
            "Epoch 4/5\n",
            "844/844 [==============================] - 113s 134ms/step - loss: 0.0188 - accuracy: 0.9944 - val_loss: 0.0459 - val_accuracy: 0.9865\n",
            "Epoch 5/5\n",
            "844/844 [==============================] - 112s 133ms/step - loss: 0.0148 - accuracy: 0.9951 - val_loss: 0.0364 - val_accuracy: 0.9900\n"
          ]
        },
        {
          "output_type": "execute_result",
          "data": {
            "text/plain": [
              "<keras.callbacks.History at 0x7f27e311b6d0>"
            ]
          },
          "metadata": {},
          "execution_count": 12
        }
      ]
    },
    {
      "cell_type": "markdown",
      "metadata": {
        "id": "2Xxlh0HXTein"
      },
      "source": [
        "Training time 10m 22s."
      ]
    },
    {
      "cell_type": "code",
      "metadata": {
        "colab": {
          "base_uri": "https://localhost:8080/"
        },
        "id": "JyUM6dc_TgrU",
        "outputId": "fc96e3ea-5f73-4051-9e83-579edf6569b4"
      },
      "source": [
        "cnn.evaluate(X_test, y_test)"
      ],
      "execution_count": null,
      "outputs": [
        {
          "output_type": "stream",
          "name": "stdout",
          "text": [
            "313/313 [==============================] - 6s 19ms/step - loss: 0.0313 - accuracy: 0.9902\n"
          ]
        },
        {
          "output_type": "execute_result",
          "data": {
            "text/plain": [
              "[0.0313175693154335, 0.9901999831199646]"
            ]
          },
          "metadata": {},
          "execution_count": 13
        }
      ]
    },
    {
      "cell_type": "markdown",
      "metadata": {
        "id": "_PmrpZFLTrKW"
      },
      "source": [
        "Loss 0.0313 Accuracy 0.9902"
      ]
    },
    {
      "cell_type": "code",
      "metadata": {
        "id": "HQ8P-AGgTvAl"
      },
      "source": [
        "from tensorflow.keras.datasets import fashion_mnist"
      ],
      "execution_count": null,
      "outputs": []
    },
    {
      "cell_type": "code",
      "metadata": {
        "colab": {
          "base_uri": "https://localhost:8080/"
        },
        "id": "alVEL1KaULmS",
        "outputId": "982d2be0-fbe0-46eb-fe18-ac154b6930bf"
      },
      "source": [
        "(X_train, y_train), (X_test, y_test) = fashion_mnist.load_data()"
      ],
      "execution_count": null,
      "outputs": [
        {
          "output_type": "stream",
          "name": "stdout",
          "text": [
            "Downloading data from https://storage.googleapis.com/tensorflow/tf-keras-datasets/train-labels-idx1-ubyte.gz\n",
            "32768/29515 [=================================] - 0s 0us/step\n",
            "40960/29515 [=========================================] - 0s 0us/step\n",
            "Downloading data from https://storage.googleapis.com/tensorflow/tf-keras-datasets/train-images-idx3-ubyte.gz\n",
            "26427392/26421880 [==============================] - 0s 0us/step\n",
            "26435584/26421880 [==============================] - 0s 0us/step\n",
            "Downloading data from https://storage.googleapis.com/tensorflow/tf-keras-datasets/t10k-labels-idx1-ubyte.gz\n",
            "16384/5148 [===============================================================================================] - 0s 0us/step\n",
            "Downloading data from https://storage.googleapis.com/tensorflow/tf-keras-datasets/t10k-images-idx3-ubyte.gz\n",
            "4423680/4422102 [==============================] - 0s 0us/step\n",
            "4431872/4422102 [==============================] - 0s 0us/step\n"
          ]
        }
      ]
    },
    {
      "cell_type": "code",
      "metadata": {
        "id": "ueAXEeJtUV2s"
      },
      "source": [
        "X_train = X_train.reshape((60000, 28, 28, 1))\n",
        "X_test = X_test.reshape((10000, 28, 28, 1))"
      ],
      "execution_count": null,
      "outputs": []
    },
    {
      "cell_type": "code",
      "metadata": {
        "id": "ox-eXqSzUb5o"
      },
      "source": [
        "X_train = X_train.astype('float32') / 255\n",
        "X_test = X_test.astype('float32') / 255"
      ],
      "execution_count": null,
      "outputs": []
    },
    {
      "cell_type": "code",
      "metadata": {
        "id": "thWM30vlUfds"
      },
      "source": [
        "y_train = to_categorical(y_train)\n",
        "y_test = to_categorical(y_test)"
      ],
      "execution_count": null,
      "outputs": []
    },
    {
      "cell_type": "code",
      "metadata": {
        "id": "9nWhVGusUlta"
      },
      "source": [
        "cnn = Sequential()"
      ],
      "execution_count": null,
      "outputs": []
    },
    {
      "cell_type": "code",
      "metadata": {
        "id": "ujm8vlmlUpX6"
      },
      "source": [
        "cnn.add(Conv2D(filters=64, kernel_size=(3, 3), activation='relu', input_shape=(28, 28, 1)))\n",
        "cnn.add(MaxPooling2D(pool_size=(2, 2)))\n",
        "cnn.add(Conv2D(filters=128, kernel_size=(3, 3), activation='relu'))\n",
        "cnn.add(MaxPooling2D(pool_size=(2, 2)))\n",
        "cnn.add(Flatten())\n",
        "cnn.add(Dense(units=128, activation='relu'))\n",
        "cnn.add(Dense(units=10, activation='softmax'))"
      ],
      "execution_count": null,
      "outputs": []
    },
    {
      "cell_type": "code",
      "metadata": {
        "id": "vfs-gcCnUzMF"
      },
      "source": [
        "cnn.compile(optimizer='adam', loss='categorical_crossentropy', metrics=['accuracy'])"
      ],
      "execution_count": null,
      "outputs": []
    },
    {
      "cell_type": "code",
      "metadata": {
        "colab": {
          "base_uri": "https://localhost:8080/"
        },
        "id": "H83JXDTJU3hG",
        "outputId": "e827e2bc-12f3-4bfb-e14d-825258fc8f46"
      },
      "source": [
        "cnn.fit(X_train, y_train, epochs=5, batch_size=64, validation_split=0.1)"
      ],
      "execution_count": null,
      "outputs": [
        {
          "output_type": "stream",
          "name": "stdout",
          "text": [
            "Epoch 1/5\n",
            "844/844 [==============================] - 115s 135ms/step - loss: 0.4596 - accuracy: 0.8341 - val_loss: 0.3541 - val_accuracy: 0.8735\n",
            "Epoch 2/5\n",
            "844/844 [==============================] - 114s 135ms/step - loss: 0.3037 - accuracy: 0.8885 - val_loss: 0.3115 - val_accuracy: 0.8855\n",
            "Epoch 3/5\n",
            "844/844 [==============================] - 115s 136ms/step - loss: 0.2561 - accuracy: 0.9054 - val_loss: 0.2751 - val_accuracy: 0.8985\n",
            "Epoch 4/5\n",
            "844/844 [==============================] - 114s 135ms/step - loss: 0.2230 - accuracy: 0.9176 - val_loss: 0.2530 - val_accuracy: 0.9078\n",
            "Epoch 5/5\n",
            "844/844 [==============================] - 113s 134ms/step - loss: 0.1981 - accuracy: 0.9266 - val_loss: 0.2592 - val_accuracy: 0.9067\n"
          ]
        },
        {
          "output_type": "execute_result",
          "data": {
            "text/plain": [
              "<keras.callbacks.History at 0x7f27e3021cd0>"
            ]
          },
          "metadata": {},
          "execution_count": 22
        }
      ]
    },
    {
      "cell_type": "markdown",
      "metadata": {
        "id": "gbrYdSp5XVwP"
      },
      "source": [
        "Training time 10m 22s."
      ]
    },
    {
      "cell_type": "code",
      "metadata": {
        "colab": {
          "base_uri": "https://localhost:8080/"
        },
        "id": "PQg4ChLpXayd",
        "outputId": "5503de1b-742e-4ddf-86f3-31adf5a72d9e"
      },
      "source": [
        "cnn.evaluate(X_test, y_test)"
      ],
      "execution_count": null,
      "outputs": [
        {
          "output_type": "stream",
          "name": "stdout",
          "text": [
            "313/313 [==============================] - 6s 19ms/step - loss: 0.2792 - accuracy: 0.9011\n"
          ]
        },
        {
          "output_type": "execute_result",
          "data": {
            "text/plain": [
              "[0.2791972756385803, 0.9010999798774719]"
            ]
          },
          "metadata": {},
          "execution_count": 23
        }
      ]
    },
    {
      "cell_type": "markdown",
      "metadata": {
        "id": "CCtiEDB9Xktq"
      },
      "source": [
        "Loss 0.2792 Accuracy 0.9011"
      ]
    },
    {
      "cell_type": "markdown",
      "metadata": {
        "id": "bVVA6gG1XrqI"
      },
      "source": [
        "The training time was the same but the regular Mnist dataset fared better than the Fashion Mnist dataset."
      ]
    },
    {
      "cell_type": "code",
      "metadata": {
        "id": "fiyYXaVlX6ah"
      },
      "source": [
        "cnn = Sequential()\n",
        "cnn.add(Conv2D(filters=64, kernel_size=(3, 3), activation='relu', input_shape=(28, 28, 1)))\n",
        "cnn.add(MaxPooling2D(pool_size=(2, 2)))\n",
        "cnn.add(Conv2D(filters=128, kernel_size=(3, 3), activation='relu'))\n",
        "cnn.add(MaxPooling2D(pool_size=(2, 2)))\n",
        "cnn.add(Flatten())\n",
        "cnn.add(Dense(4096))\n",
        "cnn.add(Dense(units=128, activation='relu'))\n",
        "cnn.add(Dense(units=10, activation='softmax'))"
      ],
      "execution_count": null,
      "outputs": []
    },
    {
      "cell_type": "code",
      "metadata": {
        "id": "3coj5xLWZInT"
      },
      "source": [
        "cnn.compile(optimizer='adam', loss='categorical_crossentropy', metrics=['accuracy'])"
      ],
      "execution_count": 25,
      "outputs": []
    },
    {
      "cell_type": "code",
      "metadata": {
        "colab": {
          "base_uri": "https://localhost:8080/",
          "height": 0
        },
        "id": "QDni7D-qZL2r",
        "outputId": "de2074a0-b968-4bb3-d380-d6f3af4b6d36"
      },
      "source": [
        "cnn.fit(X_train, y_train, epochs=5, batch_size=64, validation_split=0.1)"
      ],
      "execution_count": 26,
      "outputs": [
        {
          "output_type": "stream",
          "name": "stdout",
          "text": [
            "Epoch 1/5\n",
            "844/844 [==============================] - 260s 308ms/step - loss: 0.4209 - accuracy: 0.8450 - val_loss: 0.3373 - val_accuracy: 0.8770\n",
            "Epoch 2/5\n",
            "844/844 [==============================] - 259s 307ms/step - loss: 0.2806 - accuracy: 0.8947 - val_loss: 0.2955 - val_accuracy: 0.8893\n",
            "Epoch 3/5\n",
            "844/844 [==============================] - 257s 305ms/step - loss: 0.2459 - accuracy: 0.9084 - val_loss: 0.2792 - val_accuracy: 0.8965\n",
            "Epoch 4/5\n",
            "844/844 [==============================] - 257s 305ms/step - loss: 0.2207 - accuracy: 0.9171 - val_loss: 0.2669 - val_accuracy: 0.9015\n",
            "Epoch 5/5\n",
            "844/844 [==============================] - 258s 305ms/step - loss: 0.2035 - accuracy: 0.9226 - val_loss: 0.2708 - val_accuracy: 0.9055\n"
          ]
        },
        {
          "output_type": "execute_result",
          "data": {
            "text/plain": [
              "<keras.callbacks.History at 0x7f27df9758d0>"
            ]
          },
          "metadata": {},
          "execution_count": 26
        }
      ]
    },
    {
      "cell_type": "markdown",
      "metadata": {
        "id": "ern0FKdseXe-"
      },
      "source": [
        "Training time 22m 22s."
      ]
    },
    {
      "cell_type": "code",
      "metadata": {
        "colab": {
          "base_uri": "https://localhost:8080/",
          "height": 0
        },
        "id": "ezKFoS0-eZPo",
        "outputId": "f1e89dc2-238d-40fc-affc-77f038150f88"
      },
      "source": [
        "cnn.evaluate(X_test, y_test)"
      ],
      "execution_count": 27,
      "outputs": [
        {
          "output_type": "stream",
          "name": "stdout",
          "text": [
            "313/313 [==============================] - 13s 41ms/step - loss: 0.2875 - accuracy: 0.8996\n"
          ]
        },
        {
          "output_type": "execute_result",
          "data": {
            "text/plain": [
              "[0.28754478693008423, 0.8996000289916992]"
            ]
          },
          "metadata": {},
          "execution_count": 27
        }
      ]
    },
    {
      "cell_type": "markdown",
      "metadata": {
        "id": "mHU-O1THeiPX"
      },
      "source": [
        "Loss 0.2875 Accuracy 0.8996"
      ]
    },
    {
      "cell_type": "markdown",
      "metadata": {
        "id": "80GKJPvNeqq_"
      },
      "source": [
        "Adding the extra Dense layer with 4096 neurons added extra training time and resulted in lower accuracy."
      ]
    }
  ]
}