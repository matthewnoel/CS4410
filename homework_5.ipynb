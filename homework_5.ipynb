{
  "nbformat": 4,
  "nbformat_minor": 0,
  "metadata": {
    "colab": {
      "name": "Homework 5.ipynb",
      "provenance": []
    },
    "kernelspec": {
      "name": "python3",
      "display_name": "Python 3"
    },
    "language_info": {
      "name": "python"
    }
  },
  "cells": [
    {
      "cell_type": "markdown",
      "metadata": {
        "id": "zGSLICVEC8io"
      },
      "source": [
        "1."
      ]
    },
    {
      "cell_type": "code",
      "metadata": {
        "id": "IyW94ZxmC-oq"
      },
      "source": [
        "from sklearn.datasets import load_iris\n",
        "iris = load_iris()"
      ],
      "execution_count": 1,
      "outputs": []
    },
    {
      "cell_type": "code",
      "metadata": {
        "id": "I3We1aE2DUPN"
      },
      "source": [
        "from sklearn.cluster import KMeans\n",
        "k_list = []\n",
        "i_list = []\n",
        "for k in range(1, 11):\n",
        "  kmeans = KMeans(n_clusters=k, random_state=11)\n",
        "  kmeans.fit(iris.data)\n",
        "  k_list.append(k)\n",
        "  i_list.append(kmeans.inertia_)"
      ],
      "execution_count": 2,
      "outputs": []
    },
    {
      "cell_type": "code",
      "metadata": {
        "colab": {
          "base_uri": "https://localhost:8080/",
          "height": 296
        },
        "id": "q6mmnSh6GY8U",
        "outputId": "a1a6905f-020e-42e8-e6ed-33ca846c890b"
      },
      "source": [
        "import matplotlib.pyplot as plt\n",
        "x_label = 'Number of clusters'\n",
        "y_label = 'WCSS'\n",
        "plt.xlabel(x_label)\n",
        "plt.ylabel(y_label)\n",
        "data_dict = {x_label: k_list, y_label: i_list}\n",
        "plt.plot(x_label, y_label, data=data_dict)"
      ],
      "execution_count": 3,
      "outputs": [
        {
          "output_type": "execute_result",
          "data": {
            "text/plain": [
              "[<matplotlib.lines.Line2D at 0x7f9a465d3910>]"
            ]
          },
          "metadata": {},
          "execution_count": 3
        },
        {
          "output_type": "display_data",
          "data": {
            "image/png": "[encoded data removed]",
            "text/plain": [
              "<Figure size 432x288 with 1 Axes>"
            ]
          },
          "metadata": {
            "needs_background": "light"
          }
        }
      ]
    },
    {
      "cell_type": "markdown",
      "metadata": {
        "id": "eH6O7yQoHDyK"
      },
      "source": [
        "2."
      ]
    },
    {
      "cell_type": "code",
      "metadata": {
        "id": "6sj-uXtCHEbe"
      },
      "source": [
        "from sklearn.datasets import fetch_openml\n",
        "mnist = fetch_openml('mnist_784')"
      ],
      "execution_count": 4,
      "outputs": []
    },
    {
      "cell_type": "code",
      "metadata": {
        "id": "jiUOZ7ODHzPI"
      },
      "source": [
        "\n",
        "from sklearn.model_selection import train_test_split\n",
        "X_train, X_test, y_train, y_test = train_test_split(mnist.data, mnist.target, random_state=11)"
      ],
      "execution_count": 5,
      "outputs": []
    },
    {
      "cell_type": "code",
      "metadata": {
        "id": "YH4J1OqSIliG"
      },
      "source": [
        "from sklearn.preprocessing import StandardScaler\n",
        "scaler = StandardScaler()\n",
        "X_train_scaled = scaler.fit_transform(X_train)"
      ],
      "execution_count": 6,
      "outputs": []
    },
    {
      "cell_type": "code",
      "metadata": {
        "id": "yFQrf3RLJyxE"
      },
      "source": [
        "from sklearn.decomposition import PCA\n",
        "pca = PCA(n_components=2, random_state=11)\n",
        "mnist_pca = pca.fit_transform(X_train_scaled)"
      ],
      "execution_count": 7,
      "outputs": []
    },
    {
      "cell_type": "code",
      "metadata": {
        "id": "jJLFW45uML7D"
      },
      "source": [
        "from sklearn.linear_model import LogisticRegression\n",
        "from sklearn.model_selection import cross_val_score\n",
        "from sklearn.model_selection import KFold\n",
        "regression = LogisticRegression(solver = 'lbfgs', max_iter=1000)"
      ],
      "execution_count": 8,
      "outputs": []
    }
  ]
}