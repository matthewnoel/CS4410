{
  "nbformat": 4,
  "nbformat_minor": 0,
  "metadata": {
    "colab": {
      "name": "Homework 4.ipynb",
      "provenance": []
    },
    "kernelspec": {
      "name": "python3",
      "display_name": "Python 3"
    },
    "language_info": {
      "name": "python"
    }
  },
  "cells": [
    {
      "cell_type": "code",
      "metadata": {
        "id": "RuqS-KcUekfe"
      },
      "source": [
        "from sklearn.datasets import load_breast_cancer\n",
        "cancer = load_breast_cancer()"
      ],
      "execution_count": 1,
      "outputs": []
    },
    {
      "cell_type": "code",
      "metadata": {
        "colab": {
          "base_uri": "https://localhost:8080/",
          "height": 0
        },
        "id": "r9nuFOTksSCT",
        "outputId": "5349840c-ecae-460b-c221-70524d142c19"
      },
      "source": [
        "print(cancer.data.shape)\n",
        "print(cancer.target.shape)"
      ],
      "execution_count": 2,
      "outputs": [
        {
          "output_type": "stream",
          "name": "stdout",
          "text": [
            "(569, 30)\n",
            "(569,)\n"
          ]
        }
      ]
    },
    {
      "cell_type": "code",
      "metadata": {
        "id": "EizTWxv2q_Ug"
      },
      "source": [
        "from sklearn.model_selection import train_test_split\n",
        "X_train, X_test, y_train, y_test = train_test_split(cancer.data, cancer.target, random_state=11)"
      ],
      "execution_count": 3,
      "outputs": []
    },
    {
      "cell_type": "code",
      "metadata": {
        "colab": {
          "base_uri": "https://localhost:8080/",
          "height": 0
        },
        "id": "HEEDR2fOroAd",
        "outputId": "5a5b7a97-a8ce-4795-c660-00f5dca06022"
      },
      "source": [
        "from sklearn.neighbors import KNeighborsClassifier\n",
        "knn = KNeighborsClassifier()\n",
        "knn.fit(X=X_train, y=y_train)"
      ],
      "execution_count": 4,
      "outputs": [
        {
          "output_type": "execute_result",
          "data": {
            "text/plain": [
              "KNeighborsClassifier(algorithm='auto', leaf_size=30, metric='minkowski',\n",
              "                     metric_params=None, n_jobs=None, n_neighbors=5, p=2,\n",
              "                     weights='uniform')"
            ]
          },
          "metadata": {},
          "execution_count": 4
        }
      ]
    },
    {
      "cell_type": "code",
      "metadata": {
        "colab": {
          "base_uri": "https://localhost:8080/",
          "height": 0
        },
        "id": "JOugporgsZbB",
        "outputId": "1fa4b249-908d-4590-d938-882c5a7df9a5"
      },
      "source": [
        "predicted = knn.predict(X=X_test)\n",
        "expected = y_test\n",
        "print(predicted[:20])\n",
        "print(expected[:20])\n",
        "print(f'{knn.score(X_test, y_test):.2%}')"
      ],
      "execution_count": 5,
      "outputs": [
        {
          "output_type": "stream",
          "name": "stdout",
          "text": [
            "[0 0 0 0 0 1 1 1 1 1 1 0 1 1 1 1 0 1 1 0]\n",
            "[0 0 0 0 0 1 0 1 1 1 1 0 1 1 1 1 0 1 1 0]\n",
            "94.41%\n"
          ]
        }
      ]
    },
    {
      "cell_type": "code",
      "metadata": {
        "colab": {
          "base_uri": "https://localhost:8080/",
          "height": 0
        },
        "id": "Cav0K8Svs4tY",
        "outputId": "892a8554-b8b1-4b69-fa63-bdacf596f250"
      },
      "source": [
        "from sklearn.metrics import confusion_matrix\n",
        "confusion = confusion_matrix(y_true=expected, y_pred=predicted)\n",
        "print(confusion)"
      ],
      "execution_count": 6,
      "outputs": [
        {
          "output_type": "stream",
          "name": "stdout",
          "text": [
            "[[43  7]\n",
            " [ 1 92]]\n"
          ]
        }
      ]
    },
    {
      "cell_type": "code",
      "metadata": {
        "colab": {
          "base_uri": "https://localhost:8080/",
          "height": 0
        },
        "id": "J4teK8NgtsKh",
        "outputId": "9b6313dd-e6f6-4504-c79c-f533a4dcf271"
      },
      "source": [
        "from sklearn.metrics import classification_report\n",
        "names = [str(value) for value in cancer.target_names]\n",
        "print(classification_report(expected, predicted, target_names=names))"
      ],
      "execution_count": 7,
      "outputs": [
        {
          "output_type": "stream",
          "name": "stdout",
          "text": [
            "              precision    recall  f1-score   support\n",
            "\n",
            "   malignant       0.98      0.86      0.91        50\n",
            "      benign       0.93      0.99      0.96        93\n",
            "\n",
            "    accuracy                           0.94       143\n",
            "   macro avg       0.95      0.92      0.94       143\n",
            "weighted avg       0.95      0.94      0.94       143\n",
            "\n"
          ]
        }
      ]
    },
    {
      "cell_type": "code",
      "metadata": {
        "colab": {
          "base_uri": "https://localhost:8080/",
          "height": 265
        },
        "id": "scNc4LF3uMBz",
        "outputId": "295adae5-2418-47de-90ac-ab41503abfb6"
      },
      "source": [
        "import pandas as pd\n",
        "confusion_df = pd.DataFrame(confusion, index=range(2), columns=range(2))\n",
        "import seaborn as sns\n",
        "axes = sns.heatmap(confusion_df, annot=True, cmap='nipy_spectral_r')"
      ],
      "execution_count": 8,
      "outputs": [
        {
          "output_type": "display_data",
          "data": {
            "image/png": "[encoded data removed]",
            "text/plain": [
              "<Figure size 432x288 with 2 Axes>"
            ]
          },
          "metadata": {
            "needs_background": "light"
          }
        }
      ]
    },
    {
      "cell_type": "code",
      "metadata": {
        "id": "J_a-3MLcu5bd"
      },
      "source": [
        "from sklearn.model_selection import KFold\n",
        "kfold = KFold(n_splits=10, random_state=11, shuffle=True)"
      ],
      "execution_count": 9,
      "outputs": []
    },
    {
      "cell_type": "code",
      "metadata": {
        "colab": {
          "base_uri": "https://localhost:8080/",
          "height": 0
        },
        "id": "Xx2uWpkWvRFG",
        "outputId": "26211261-865b-4476-979f-4ac103fa5672"
      },
      "source": [
        "from sklearn.model_selection import cross_val_score\n",
        "scores = cross_val_score(estimator=knn, X=cancer.data, y=cancer.target, cv=kfold)\n",
        "print(scores)\n",
        "print(f'Mean accuracy: {scores.mean():.2%}')\n",
        "print(f'Accuracy standard deviation: {scores.std():.2%}')"
      ],
      "execution_count": 10,
      "outputs": [
        {
          "output_type": "stream",
          "name": "stdout",
          "text": [
            "[0.92982456 0.94736842 0.89473684 0.92982456 0.92982456 0.94736842\n",
            " 0.89473684 0.94736842 0.94736842 0.91071429]\n",
            "Mean accuracy: 92.79%\n",
            "Accuracy standard deviation: 2.01%\n"
          ]
        }
      ]
    },
    {
      "cell_type": "code",
      "metadata": {
        "colab": {
          "base_uri": "https://localhost:8080/",
          "height": 0
        },
        "id": "Hzeuag2WwxqW",
        "outputId": "2be3c2ca-52c8-42b8-ede2-7fbfc9814fe5"
      },
      "source": [
        "from sklearn.svm import SVC\n",
        "from sklearn.naive_bayes import GaussianNB\n",
        "from sklearn.linear_model import LogisticRegression\n",
        "\n",
        "estimators = {\n",
        "    'KNeighborsClassifier': knn,\n",
        "    'SVC': SVC(gamma='scale'),\n",
        "    'GaussianNB': GaussianNB(),\n",
        "    'LogisticRegression': LogisticRegression(solver='lbfgs', multi_class='ovr', max_iter=10000)\n",
        "}\n",
        "\n",
        "for estimator_name, estimator_object in estimators.items():\n",
        "  kfold = KFold(n_splits=10, random_state=11, shuffle=True)\n",
        "  scores = cross_val_score(estimator=estimator_object, X=cancer.data, y=cancer.target, cv=kfold)\n",
        "  print(f'{estimator_name:>20}: ' + f'mean accuracy={scores.mean():.2%}; ' + f'standard deviation={scores.std():.2%}')"
      ],
      "execution_count": 11,
      "outputs": [
        {
          "output_type": "stream",
          "name": "stdout",
          "text": [
            "KNeighborsClassifier: mean accuracy=92.79%; standard deviation=2.01%\n",
            "                 SVC: mean accuracy=91.92%; standard deviation=3.52%\n",
            "          GaussianNB: mean accuracy=93.85%; standard deviation=2.75%\n",
            "  LogisticRegression: mean accuracy=95.08%; standard deviation=3.02%\n"
          ]
        }
      ]
    },
    {
      "cell_type": "markdown",
      "metadata": {
        "id": "32ZASXZTzZQR"
      },
      "source": [
        "LogisticRegression gives the best accuracy"
      ]
    }
  ]
}