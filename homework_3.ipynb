{
  "nbformat": 4,
  "nbformat_minor": 0,
  "metadata": {
    "colab": {
      "name": "Homework 3.ipynb",
      "provenance": []
    },
    "kernelspec": {
      "name": "python3",
      "display_name": "Python 3"
    },
    "language_info": {
      "name": "python"
    }
  },
  "cells": [
    {
      "cell_type": "markdown",
      "metadata": {
        "id": "E8Ypx9nynuNf"
      },
      "source": [
        "1."
      ]
    },
    {
      "cell_type": "code",
      "metadata": {
        "id": "PAql6lPpi2pt"
      },
      "source": [
        "%matplotlib inline\n",
        "from sklearn.datasets import load_iris\n",
        "iris = load_iris()"
      ],
      "execution_count": 1,
      "outputs": []
    },
    {
      "cell_type": "markdown",
      "metadata": {
        "id": "aYPnpeTnn_OT"
      },
      "source": [
        "2."
      ]
    },
    {
      "cell_type": "code",
      "metadata": {
        "colab": {
          "base_uri": "https://localhost:8080/",
          "height": 0
        },
        "id": "uKwhVXNQoAZq",
        "outputId": "7cb71a16-9a5f-4b48-adc9-6e7cd3f30a24"
      },
      "source": [
        "from sklearn.model_selection import KFold, cross_val_score\n",
        "from sklearn.neighbors import KNeighborsClassifier\n",
        "knn = KNeighborsClassifier()\n",
        "kfold = KFold(n_splits=10, random_state=11, shuffle=True)\n",
        "scores = cross_val_score(estimator=knn, X=iris.data, y=iris.target, cv=kfold)\n",
        "k_list = []\n",
        "mean_list = []\n",
        "for k in range(1, 31):\n",
        "  knn = KNeighborsClassifier(n_neighbors=k)\n",
        "  scores = cross_val_score(knn, iris.data, iris.target, cv=10)\n",
        "  k_list.append(k)\n",
        "  mean_list.append(scores.mean())\n",
        "  print(f'k={k:<2}; mean accuracy={scores.mean():.2%}; ' + f'standard deviation={scores.std():.2%}')"
      ],
      "execution_count": 2,
      "outputs": [
        {
          "output_type": "stream",
          "text": [
            "k=1 ; mean accuracy=96.00%; standard deviation=5.33%\n",
            "k=2 ; mean accuracy=95.33%; standard deviation=5.21%\n",
            "k=3 ; mean accuracy=96.67%; standard deviation=4.47%\n",
            "k=4 ; mean accuracy=96.67%; standard deviation=4.47%\n",
            "k=5 ; mean accuracy=96.67%; standard deviation=4.47%\n",
            "k=6 ; mean accuracy=96.67%; standard deviation=4.47%\n",
            "k=7 ; mean accuracy=96.67%; standard deviation=4.47%\n",
            "k=8 ; mean accuracy=96.67%; standard deviation=4.47%\n",
            "k=9 ; mean accuracy=97.33%; standard deviation=3.27%\n",
            "k=10; mean accuracy=96.67%; standard deviation=4.47%\n",
            "k=11; mean accuracy=96.67%; standard deviation=4.47%\n",
            "k=12; mean accuracy=97.33%; standard deviation=3.27%\n",
            "k=13; mean accuracy=98.00%; standard deviation=3.06%\n",
            "k=14; mean accuracy=97.33%; standard deviation=4.42%\n",
            "k=15; mean accuracy=97.33%; standard deviation=3.27%\n",
            "k=16; mean accuracy=97.33%; standard deviation=3.27%\n",
            "k=17; mean accuracy=97.33%; standard deviation=3.27%\n",
            "k=18; mean accuracy=98.00%; standard deviation=3.06%\n",
            "k=19; mean accuracy=97.33%; standard deviation=3.27%\n",
            "k=20; mean accuracy=98.00%; standard deviation=3.06%\n",
            "k=21; mean accuracy=96.67%; standard deviation=3.33%\n",
            "k=22; mean accuracy=96.67%; standard deviation=3.33%\n",
            "k=23; mean accuracy=97.33%; standard deviation=3.27%\n",
            "k=24; mean accuracy=96.00%; standard deviation=4.42%\n",
            "k=25; mean accuracy=96.67%; standard deviation=3.33%\n",
            "k=26; mean accuracy=96.00%; standard deviation=4.42%\n",
            "k=27; mean accuracy=96.67%; standard deviation=4.47%\n",
            "k=28; mean accuracy=95.33%; standard deviation=4.27%\n",
            "k=29; mean accuracy=95.33%; standard deviation=4.27%\n",
            "k=30; mean accuracy=95.33%; standard deviation=4.27%\n"
          ],
          "name": "stdout"
        }
      ]
    },
    {
      "cell_type": "markdown",
      "metadata": {
        "id": "PYiZmh_SsYNV"
      },
      "source": [
        "3."
      ]
    },
    {
      "cell_type": "code",
      "metadata": {
        "colab": {
          "base_uri": "https://localhost:8080/",
          "height": 296
        },
        "id": "wGTvBEMEsY3K",
        "outputId": "e135c0df-3812-479f-b2c8-a5780e5c6bda"
      },
      "source": [
        "import matplotlib.pyplot as plt\n",
        "x_label = 'Value of K for KNN'\n",
        "y_label = 'Cross Validated Accuracy'\n",
        "plt.xlabel(x_label)\n",
        "plt.ylabel(y_label)\n",
        "mean_dict = {x_label: k_list, y_label: mean_list}\n",
        "plt.plot(x_label, y_label, data=mean_dict)"
      ],
      "execution_count": 3,
      "outputs": [
        {
          "output_type": "execute_result",
          "data": {
            "text/plain": [
              "[<matplotlib.lines.Line2D at 0x7f0acb072d90>]"
            ]
          },
          "metadata": {},
          "execution_count": 3
        },
        {
          "output_type": "display_data",
          "data": {
            "image/png": "[encoded data removed]",
            "text/plain": [
              "<Figure size 432x288 with 1 Axes>"
            ]
          },
          "metadata": {
            "needs_background": "light"
          }
        }
      ]
    },
    {
      "cell_type": "code",
      "metadata": {
        "colab": {
          "base_uri": "https://localhost:8080/",
          "height": 296
        },
        "id": "y86oVMZkyIe1",
        "outputId": "34e41dd3-cb3d-4e0d-a3fb-9ea337c3a23f"
      },
      "source": [
        "plt.xlabel(x_label)\n",
        "plt.ylabel(y_label)\n",
        "plt.xlim(11, 15)\n",
        "plt.ylim(0.966, 0.981)\n",
        "plt.plot(x_label, y_label, data=mean_dict)"
      ],
      "execution_count": 4,
      "outputs": [
        {
          "output_type": "execute_result",
          "data": {
            "text/plain": [
              "[<matplotlib.lines.Line2D at 0x7f0acafb4090>]"
            ]
          },
          "metadata": {},
          "execution_count": 4
        },
        {
          "output_type": "display_data",
          "data": {
            "image/png": "[encoded data removed]",
            "text/plain": [
              "<Figure size 432x288 with 1 Axes>"
            ]
          },
          "metadata": {
            "needs_background": "light"
          }
        }
      ]
    },
    {
      "cell_type": "markdown",
      "metadata": {
        "id": "dutblLGWy-ix"
      },
      "source": [
        "4."
      ]
    },
    {
      "cell_type": "code",
      "metadata": {
        "colab": {
          "base_uri": "https://localhost:8080/",
          "height": 0
        },
        "id": "aeX2Spp0y_KI",
        "outputId": "0c2976e4-c5c6-498c-fce7-02c8d44d8730"
      },
      "source": [
        "from sklearn.model_selection import GridSearchCV\n",
        "import numpy as np\n",
        "from sklearn.model_selection import train_test_split\n",
        "X_train, X_test, y_train, y_test = train_test_split(iris.data, iris.target, random_state=11)\n",
        "gs = {'n_neighbors': np.arange(1,25)}\n",
        "knn_gs = KNeighborsClassifier()\n",
        "knn_param_search = GridSearchCV(knn_gs, gs, cv=10)\n",
        "knn_param_search.fit(X_train, y_train)\n",
        "print(knn_param_search.best_score_)\n",
        "print(knn_param_search.best_params_)"
      ],
      "execution_count": 5,
      "outputs": [
        {
          "output_type": "stream",
          "text": [
            "0.9742424242424242\n",
            "{'n_neighbors': 7}\n"
          ],
          "name": "stdout"
        }
      ]
    }
  ]
}